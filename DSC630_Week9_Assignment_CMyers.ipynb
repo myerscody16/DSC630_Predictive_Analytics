{
 "cells": [
  {
   "cell_type": "raw",
   "metadata": {},
   "source": [
    "Assignment:\n",
    "\n",
    "Calculate the probability of a model ensemble that uses simple majority voting making an \n",
    "incorrect prediction in the following scenarios. \n",
    "(Hint: Understanding how to use the binomial distribution will be useful in answering this question.)"
   ]
  },
  {
   "cell_type": "raw",
   "metadata": {},
   "source": [
    "Scenarios:\n",
    "\n",
    "The ensemble contains 11 independent models, all of which have an error rate of 0.2.\n",
    "The ensemble contains 11 independent models, all of which have an error rate of 0.49.\n",
    "The ensemble contains 21 independent models, all of which have an error rate of 0.49."
   ]
  },
  {
   "cell_type": "code",
   "execution_count": 1,
   "metadata": {},
   "outputs": [],
   "source": [
    "from scipy.stats import binom\n",
    "import numpy as np"
   ]
  },
  {
   "cell_type": "code",
   "execution_count": 2,
   "metadata": {},
   "outputs": [],
   "source": [
    "def incorrect_pred_prob(n, p):\n",
    "    # Find the minimum number of models that can fail; P(Event) = (n*1)/(n*2), since there are only two outcomes.\n",
    "    k = np.floor(n/2)\n",
    "    return binom.sf(k, n, p)\n",
    "    "
   ]
  },
  {
   "cell_type": "code",
   "execution_count": 3,
   "metadata": {},
   "outputs": [
    {
     "data": {
      "text/plain": [
       "0.011654205440000008"
      ]
     },
     "execution_count": 3,
     "metadata": {},
     "output_type": "execute_result"
    }
   ],
   "source": [
    "#1 11 models with error rate of .2\n",
    "incorrect_pred_prob(11, .2)"
   ]
  },
  {
   "cell_type": "code",
   "execution_count": 4,
   "metadata": {},
   "outputs": [
    {
     "data": {
      "text/plain": [
       "0.47294772571497473"
      ]
     },
     "execution_count": 4,
     "metadata": {},
     "output_type": "execute_result"
    }
   ],
   "source": [
    "#2 11 models with error rate of .49\n",
    "incorrect_pred_prob(11, .49)"
   ]
  },
  {
   "cell_type": "code",
   "execution_count": 5,
   "metadata": {},
   "outputs": [
    {
     "data": {
      "text/plain": [
       "0.4630479010127354"
      ]
     },
     "execution_count": 5,
     "metadata": {},
     "output_type": "execute_result"
    }
   ],
   "source": [
    "#3 21 models with error rate of .49\n",
    "incorrect_pred_prob(21, .49)"
   ]
  },
  {
   "cell_type": "raw",
   "metadata": {},
   "source": [
    "To find out what the probability would be if any of our models would give an incorrect prediction, I chose to use the survival function from the scipy library. My reasoning behind this is that the survival function starts with the highest probability of an event occuring, but over time, the possibility of that event decreases this is due to the definition of the survival function 1 - CDF or 1 - F(t).\n",
    "\n",
    "Now when thinking about how this relates back to our problem, when our first model runs, there is a 1/11 chance that a model in our ensemble gives an incorrect prediction. If the first model gives a correct prediction then we know that there is now a 1/10 chance for one model in the ensemble to return an incorrect prediction. If the second one returns a correct prediction then there is now a 1/9 chance that a model in the ensemble returns an incorrect prediction. So from this trend, we can see that when we have the most remaining models in the ensemble to still give a prediction, we have the best chance of one of the models to return an inaccurate prediction and the probability of that decreases until we have let each of the 11 models predict an output and at that point we have reached the minimum probability that an incorrect prediction will occur. "
   ]
  }
 ],
 "metadata": {
  "kernelspec": {
   "display_name": "Python 3",
   "language": "python",
   "name": "python3"
  },
  "language_info": {
   "codemirror_mode": {
    "name": "ipython",
    "version": 3
   },
   "file_extension": ".py",
   "mimetype": "text/x-python",
   "name": "python",
   "nbconvert_exporter": "python",
   "pygments_lexer": "ipython3",
   "version": "3.8.3"
  }
 },
 "nbformat": 4,
 "nbformat_minor": 4
}
